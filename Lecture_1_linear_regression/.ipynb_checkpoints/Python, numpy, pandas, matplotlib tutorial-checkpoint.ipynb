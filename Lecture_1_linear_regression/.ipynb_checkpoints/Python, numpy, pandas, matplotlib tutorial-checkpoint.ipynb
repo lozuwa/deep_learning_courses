{
 "cells": [
  {
   "cell_type": "markdown",
   "metadata": {},
   "source": [
    "## Python Tutorial \n",
    "* This first section will be about using python"
   ]
  },
  {
   "cell_type": "code",
   "execution_count": 4,
   "metadata": {},
   "outputs": [
    {
     "name": "stdout",
     "output_type": "stream",
     "text": [
      "<module 'numpy.version' from 'c:\\\\users\\\\hp\\\\anaconda3\\\\lib\\\\site-packages\\\\numpy\\\\version.py'>\n"
     ]
    }
   ],
   "source": [
    "# Checking the version of your python \n",
    "from numpy import version\n",
    "import numpy as np\n",
    "print( version )"
   ]
  },
  {
   "cell_type": "code",
   "execution_count": 6,
   "metadata": {},
   "outputs": [
    {
     "name": "stdout",
     "output_type": "stream",
     "text": [
      "Hello my name is rodrigo\n"
     ]
    }
   ],
   "source": [
    "# How to print in python? Differences py2 and py3\n",
    "# Python 2.*\n",
    "#print \"Hello my name is rodrigo\"\n",
    "# Python 3.*\n",
    "print(\"Hello my name is rodrigo\")"
   ]
  },
  {
   "cell_type": "code",
   "execution_count": 21,
   "metadata": {},
   "outputs": [
    {
     "name": "stdout",
     "output_type": "stream",
     "text": [
      "hello ... \n",
      "5\n",
      "5.5\n"
     ]
    }
   ],
   "source": [
    "# Variable types \n",
    "print('hello ... ')\n",
    "print(5)\n",
    "print(5.5)"
   ]
  },
  {
   "cell_type": "code",
   "execution_count": 26,
   "metadata": {},
   "outputs": [
    {
     "name": "stdout",
     "output_type": "stream",
     "text": [
      "aaaaa\n",
      "75\n",
      "75.5\n",
      "bad something\n",
      "1\n"
     ]
    }
   ],
   "source": [
    "# Operations \n",
    "print('a'*5)\n",
    "print(10+65)\n",
    "print(10+65.5)\n",
    "print('bad' + ' something')\n",
    "\n",
    "# py2 and py3\n",
    "print(5//5)"
   ]
  },
  {
   "cell_type": "code",
   "execution_count": 8,
   "metadata": {
    "collapsed": true
   },
   "outputs": [],
   "source": [
    "# Data structures \n",
    "# List \n",
    "arr = [1,2,3,\"hello\"]\n",
    "# Tupple\n",
    "tup = (1,2)\n",
    "# Dictionary \n",
    "dict_ = {'name': 'rodrigo', 'last name': 'loza', 'age': 22}"
   ]
  },
  {
   "cell_type": "code",
   "execution_count": 9,
   "metadata": {},
   "outputs": [
    {
     "name": "stdout",
     "output_type": "stream",
     "text": [
      "python is very easy\n",
      "0\n",
      "1\n",
      "2\n",
      "3\n",
      "4\n",
      "python ..\n",
      "python ..\n",
      "python ..\n",
      "python ..\n",
      "python ..\n",
      "python ..\n",
      "python ..\n",
      "python ..\n",
      "python ..\n",
      "python ..\n",
      "python ..\n"
     ]
    }
   ],
   "source": [
    "# Control statements \n",
    "# If statements \n",
    "b = True\n",
    "if b:\n",
    "    print('python is very easy')\n",
    "elif b == False:\n",
    "    print('python is not easy')\n",
    "    \n",
    "# For, while statements\n",
    "## For\n",
    "sample_list = [each for each in range(5)]\n",
    "for i in range(len(sample_list)):\n",
    "    print(i)\n",
    "\n",
    "## While\n",
    "i = 0\n",
    "while(i <= 10):\n",
    "    print('python ..')\n",
    "    i += 1"
   ]
  },
  {
   "cell_type": "code",
   "execution_count": 11,
   "metadata": {},
   "outputs": [
    {
     "name": "stdout",
     "output_type": "stream",
     "text": [
      "{0: 'rodrigo', 1: 'alejandro', 2: 'some other name'}\n"
     ]
    }
   ],
   "source": [
    "## Comprehension lists, dictionaries \n",
    "## Comprehension Lists\n",
    "list_ = [1,2,3]\n",
    "new_list = [each for each in list_]\n",
    "\n",
    "## Comprehension dictionaries \n",
    "names = ['rodrigo', 'alejandro', 'some other name']\n",
    "new_dict = {a:b for a,b in enumerate(names)}"
   ]
  },
  {
   "cell_type": "code",
   "execution_count": 19,
   "metadata": {},
   "outputs": [
    {
     "name": "stdout",
     "output_type": "stream",
     "text": [
      "['r', 'k', 'f']\n"
     ]
    }
   ],
   "source": [
    "## Examples of mixed data structures \n",
    "people = [('r', 22), ('k', 21), ('f', 27)]\n",
    "to_display = [name[0] for name in people]\n",
    "print(to_display)"
   ]
  },
  {
   "cell_type": "code",
   "execution_count": 20,
   "metadata": {},
   "outputs": [
    {
     "data": {
      "text/plain": [
       "[(1, 'a'), (2, 'a'), (3, 'a'), (4, 'b')]"
      ]
     },
     "execution_count": 20,
     "metadata": {},
     "output_type": "execute_result"
    }
   ],
   "source": [
    "# Examples of mixed data structures\n",
    "x = [1,2,3,4]\n",
    "y = ['a','a','a','b']\n",
    "[each for each in zip(x,y)]"
   ]
  },
  {
   "cell_type": "code",
   "execution_count": 32,
   "metadata": {},
   "outputs": [
    {
     "data": {
      "text/plain": [
       "52.0"
      ]
     },
     "execution_count": 32,
     "metadata": {},
     "output_type": "execute_result"
    }
   ],
   "source": [
    "# Functions \n",
    "def something(param1, param2):\n",
    "    return param1*param2\n",
    "\n",
    "something(8, 6.5)"
   ]
  },
  {
   "cell_type": "code",
   "execution_count": 36,
   "metadata": {},
   "outputs": [
    {
     "name": "stdout",
     "output_type": "stream",
     "text": [
      "5\n",
      "10\n"
     ]
    }
   ],
   "source": [
    "# Classes \n",
    "class neural_net:\n",
    "    def __init__(self, param1 = 5):\n",
    "        self.params = param1\n",
    "    def get_param(self):\n",
    "        return self.params\n",
    "    def set_param(self, pr):\n",
    "        self.params = pr\n",
    "\n",
    "# Instantiate object\n",
    "nn = neural_net(5)\n",
    "# Get parameter\n",
    "print(nn.get_param())\n",
    "# Set parameter \n",
    "nn.set_param(10)\n",
    "print(nn.get_param())"
   ]
  },
  {
   "cell_type": "markdown",
   "metadata": {},
   "source": [
    "## Numpy tutorial\n",
    "* This section is about numpy "
   ]
  },
  {
   "cell_type": "code",
   "execution_count": 37,
   "metadata": {
    "collapsed": true
   },
   "outputs": [],
   "source": [
    "import numpy as np"
   ]
  },
  {
   "cell_type": "code",
   "execution_count": 38,
   "metadata": {},
   "outputs": [
    {
     "name": "stdout",
     "output_type": "stream",
     "text": [
      "1.13.0\n"
     ]
    }
   ],
   "source": [
    "print(np.__version__)"
   ]
  },
  {
   "cell_type": "code",
   "execution_count": 42,
   "metadata": {},
   "outputs": [
    {
     "name": "stdout",
     "output_type": "stream",
     "text": [
      "[1 2 3] (3,)\n"
     ]
    }
   ],
   "source": [
    "# Create a vector \n",
    "vector = np.array([1,2,3])\n",
    "print(vector, vector.shape)"
   ]
  },
  {
   "cell_type": "code",
   "execution_count": 43,
   "metadata": {},
   "outputs": [
    {
     "name": "stdout",
     "output_type": "stream",
     "text": [
      "[[1 2]\n",
      " [3 4]\n",
      " [5 6]] (3, 2)\n"
     ]
    }
   ],
   "source": [
    "# Create a tensor \n",
    "vector = np.array([ [1,2], [3,4], [5,6] ])\n",
    "print(vector, vector.shape)"
   ]
  },
  {
   "cell_type": "code",
   "execution_count": 61,
   "metadata": {},
   "outputs": [
    {
     "name": "stdout",
     "output_type": "stream",
     "text": [
      "[1 3 5]\n"
     ]
    }
   ],
   "source": [
    "# Slicing (very powerful)\n",
    "print(vector[:, 0])"
   ]
  },
  {
   "cell_type": "code",
   "execution_count": 45,
   "metadata": {},
   "outputs": [
    {
     "name": "stdout",
     "output_type": "stream",
     "text": [
      "(28, 28, 1) (784, 1)\n"
     ]
    }
   ],
   "source": [
    "# Reshape a vector \n",
    "tensor = np.zeros([28,28,1])\n",
    "flat_vector = tensor.reshape(-1, 1)\n",
    "print(tensor.shape, flat_vector.shape)"
   ]
  },
  {
   "cell_type": "code",
   "execution_count": 47,
   "metadata": {},
   "outputs": [
    {
     "name": "stdout",
     "output_type": "stream",
     "text": [
      "[[  5.46471056e-01]\n",
      " [  9.20244167e-01]\n",
      " [  8.21793313e-01]\n",
      " [  9.46049533e-02]\n",
      " [  6.87784585e-01]\n",
      " [  1.62673578e-04]\n",
      " [  9.16935085e-01]\n",
      " [  8.55163619e-02]]\n"
     ]
    }
   ],
   "source": [
    "# Create random vectors\n",
    "weights = np.random.rand(8, 1)\n",
    "print(weights)"
   ]
  },
  {
   "cell_type": "code",
   "execution_count": 56,
   "metadata": {},
   "outputs": [
    {
     "name": "stdout",
     "output_type": "stream",
     "text": [
      "[[0 0]\n",
      " [0 0]]\n",
      "[[1 1]\n",
      " [1 1]]\n",
      "\n",
      "shape:  (2, 2) (2, 2)\n"
     ]
    }
   ],
   "source": [
    "# Operations \n",
    "a = np.zeros([2,2], np.uint8)\n",
    "b = np.ones([2,2], np.uint8)\n",
    "print(a)\n",
    "print(b)\n",
    "print('\\nshape: ', a.shape, b.shape)"
   ]
  },
  {
   "cell_type": "code",
   "execution_count": 58,
   "metadata": {},
   "outputs": [
    {
     "name": "stdout",
     "output_type": "stream",
     "text": [
      "add\n",
      " [[1 1]\n",
      " [1 1]]\n"
     ]
    }
   ],
   "source": [
    "# Addition\n",
    "c = np.add(a, b)\n",
    "print('add:\\n', c)"
   ]
  },
  {
   "cell_type": "code",
   "execution_count": 60,
   "metadata": {},
   "outputs": [
    {
     "name": "stdout",
     "output_type": "stream",
     "text": [
      "matrix mult:\n",
      " [[4 4]\n",
      " [4 4]]\n"
     ]
    }
   ],
   "source": [
    "# Slicing \n",
    "a[:] = 2\n",
    "# Mat mul\n",
    "d = np.dot(a,b)\n",
    "print('matrix mult:\\n', d)"
   ]
  },
  {
   "cell_type": "markdown",
   "metadata": {},
   "source": [
    "## Pandas tutorial\n",
    "* This section is about pandas "
   ]
  },
  {
   "cell_type": "code",
   "execution_count": 64,
   "metadata": {
    "collapsed": true
   },
   "outputs": [],
   "source": [
    "import pandas as pd\n",
    "#df = pd.read_csv('create_a_csv_on_the_go.csv')\n",
    "#df.head()\n",
    "#df.describe()"
   ]
  },
  {
   "cell_type": "code",
   "execution_count": 102,
   "metadata": {},
   "outputs": [
    {
     "data": {
      "text/plain": [
       "Index(['ages', 'names'], dtype='object')"
      ]
     },
     "execution_count": 102,
     "metadata": {},
     "output_type": "execute_result"
    }
   ],
   "source": [
    "# Create a dataframe\n",
    "df2 = pd.DataFrame( {'names': ['a', 'b', 'c'], 'ages': [12,13,14]} )\n",
    "df2.head()\n",
    "df2.describe()\n",
    "df2.dtypes\n",
    "df2.columns"
   ]
  },
  {
   "cell_type": "code",
   "execution_count": 105,
   "metadata": {},
   "outputs": [
    {
     "data": {
      "text/html": [
       "<div>\n",
       "<table border=\"1\" class=\"dataframe\">\n",
       "  <thead>\n",
       "    <tr style=\"text-align: right;\">\n",
       "      <th></th>\n",
       "      <th>ages</th>\n",
       "      <th>names</th>\n",
       "      <th>pet</th>\n",
       "    </tr>\n",
       "  </thead>\n",
       "  <tbody>\n",
       "    <tr>\n",
       "      <th>0</th>\n",
       "      <td>12</td>\n",
       "      <td>a</td>\n",
       "      <td>c</td>\n",
       "    </tr>\n",
       "    <tr>\n",
       "      <th>1</th>\n",
       "      <td>13</td>\n",
       "      <td>NaN</td>\n",
       "      <td>d</td>\n",
       "    </tr>\n",
       "    <tr>\n",
       "      <th>2</th>\n",
       "      <td>14</td>\n",
       "      <td>c</td>\n",
       "      <td>NaN</td>\n",
       "    </tr>\n",
       "  </tbody>\n",
       "</table>\n",
       "</div>"
      ],
      "text/plain": [
       "   ages names  pet\n",
       "0    12     a    c\n",
       "1    13   NaN    d\n",
       "2    14     c  NaN"
      ]
     },
     "execution_count": 105,
     "metadata": {},
     "output_type": "execute_result"
    }
   ],
   "source": [
    "# Missing values 'NA'\n",
    "df2 = pd.DataFrame( {'names': ['a', np.nan, 'c'], 'ages': [12,13,14], 'pet': ['c', 'd', np.nan]} )\n",
    "df2.head()"
   ]
  },
  {
   "cell_type": "code",
   "execution_count": 106,
   "metadata": {},
   "outputs": [
    {
     "data": {
      "text/html": [
       "<div>\n",
       "<table border=\"1\" class=\"dataframe\">\n",
       "  <thead>\n",
       "    <tr style=\"text-align: right;\">\n",
       "      <th></th>\n",
       "      <th>ages</th>\n",
       "      <th>names</th>\n",
       "      <th>pet</th>\n",
       "    </tr>\n",
       "  </thead>\n",
       "  <tbody>\n",
       "    <tr>\n",
       "      <th>0</th>\n",
       "      <td>12</td>\n",
       "      <td>a</td>\n",
       "      <td>c</td>\n",
       "    </tr>\n",
       "  </tbody>\n",
       "</table>\n",
       "</div>"
      ],
      "text/plain": [
       "   ages names pet\n",
       "0    12     a   c"
      ]
     },
     "execution_count": 106,
     "metadata": {},
     "output_type": "execute_result"
    }
   ],
   "source": [
    "# Drop nans\n",
    "df4 = df2\n",
    "df4.dropna()"
   ]
  },
  {
   "cell_type": "code",
   "execution_count": 108,
   "metadata": {},
   "outputs": [
    {
     "name": "stdout",
     "output_type": "stream",
     "text": [
      "   ages names pet\n",
      "0    12     a   c\n",
      "1    13     1   d\n",
      "2    14     c   1\n"
     ]
    }
   ],
   "source": [
    "# Fill nans\n",
    "df6 = df2.fillna(value=1)\n",
    "print(df6.head())"
   ]
  },
  {
   "cell_type": "code",
   "execution_count": 70,
   "metadata": {},
   "outputs": [
    {
     "name": "stdout",
     "output_type": "stream",
     "text": [
      "   ages\n",
      "0    12\n",
      "1    13\n",
      "2    14\n"
     ]
    }
   ],
   "source": [
    "# Drop columns \n",
    "df3 = df2.drop('names', axis = 1)\n",
    "print(df3)"
   ]
  },
  {
   "cell_type": "code",
   "execution_count": 72,
   "metadata": {},
   "outputs": [
    {
     "name": "stdout",
     "output_type": "stream",
     "text": [
      "x:\n",
      " [[213  21]\n",
      " [134  32]\n",
      " [543  41]]\n",
      "y:\n",
      " ['M' 'B' 'B']\n"
     ]
    }
   ],
   "source": [
    "# Convert to numpy arrays \n",
    "tidy_data = pd.DataFrame({'id': [213,134,543], 'size': [21,32,41], 'diagnosis': ['M', 'B', 'B']})\n",
    "# Separate data \n",
    "y = np.array(tidy_data['diagnosis'])\n",
    "x = np.array(tidy_data.drop('diagnosis', axis = 1))\n",
    "# Display\n",
    "print('x:\\n', x)\n",
    "print('y:\\n', y)"
   ]
  },
  {
   "cell_type": "markdown",
   "metadata": {},
   "source": [
    "## Matplotlib tutorial\n",
    "* This section is about matplotlib "
   ]
  },
  {
   "cell_type": "code",
   "execution_count": 76,
   "metadata": {
    "collapsed": true
   },
   "outputs": [],
   "source": [
    "import matplotlib.pyplot as plt \n",
    "from matplotlib import style \n",
    "style.use('ggplot')"
   ]
  },
  {
   "cell_type": "code",
   "execution_count": 91,
   "metadata": {},
   "outputs": [
    {
     "name": "stdout",
     "output_type": "stream",
     "text": [
      "100 100\n"
     ]
    }
   ],
   "source": [
    "# Create data points\n",
    "x = np.random.rand(100)*10 #[each for each in range(0,10)] \n",
    "y = [np.sin(x) for x in x]\n",
    "print(len(x), len(y))"
   ]
  },
  {
   "cell_type": "code",
   "execution_count": 95,
   "metadata": {},
   "outputs": [
    {
     "data": {
      "image/png": "[encoded data removed]",
      "text/plain": [
       "<matplotlib.figure.Figure at 0x26c56b8fc18>"
      ]
     },
     "metadata": {},
     "output_type": "display_data"
    }
   ],
   "source": [
    "# Plot datapoints\n",
    "plt.plot(x, y)\n",
    "plt.title('sinx, plot random generated points')\n",
    "plt.xlabel('x')\n",
    "plt.ylabel('y')\n",
    "# Show plot\n",
    "plt.show()"
   ]
  },
  {
   "cell_type": "code",
   "execution_count": 99,
   "metadata": {},
   "outputs": [
    {
     "data": {
      "image/png": "[encoded data removed]",
      "text/plain": [
       "<matplotlib.figure.Figure at 0x26c56c004e0>"
      ]
     },
     "metadata": {},
     "output_type": "display_data"
    }
   ],
   "source": [
    "# Scatter plot \n",
    "plt.scatter(x, y)\n",
    "plt.title('sinx, few datapoints')\n",
    "plt.xlabel('x')\n",
    "plt.ylabel('y')\n",
    "# Show plot\n",
    "plt.show()"
   ]
  },
  {
   "cell_type": "markdown",
   "metadata": {},
   "source": [
    "## Scikit learn tutorial \n",
    "* This section is about scikit-learn"
   ]
  },
  {
   "cell_type": "code",
   "execution_count": 109,
   "metadata": {},
   "outputs": [
    {
     "name": "stderr",
     "output_type": "stream",
     "text": [
      "c:\\users\\hp\\anaconda3\\lib\\site-packages\\sklearn\\cross_validation.py:44: DeprecationWarning: This module was deprecated in version 0.18 in favor of the model_selection module into which all the refactored classes and functions are moved. Also note that the interface of the new CV iterators are different from that of this module. This module will be removed in 0.20.\n",
      "  \"This module will be removed in 0.20.\", DeprecationWarning)\n"
     ]
    }
   ],
   "source": [
    "# Import libraries\n",
    "from sklearn import linear_model\n",
    "from sklearn.cross_validation import train_test_split"
   ]
  },
  {
   "cell_type": "code",
   "execution_count": 110,
   "metadata": {
    "collapsed": true
   },
   "outputs": [],
   "source": [
    "# Load dataset\n",
    "from sklearn.datasets import load_boston\n",
    "boston = load_boston()"
   ]
  },
  {
   "cell_type": "code",
   "execution_count": 111,
   "metadata": {},
   "outputs": [
    {
     "data": {
      "text/html": [
       "<div>\n",
       "<table border=\"1\" class=\"dataframe\">\n",
       "  <thead>\n",
       "    <tr style=\"text-align: right;\">\n",
       "      <th></th>\n",
       "      <th>CRIM</th>\n",
       "      <th>ZN</th>\n",
       "      <th>INDUS</th>\n",
       "      <th>CHAS</th>\n",
       "      <th>NOX</th>\n",
       "      <th>RM</th>\n",
       "      <th>AGE</th>\n",
       "      <th>DIS</th>\n",
       "      <th>RAD</th>\n",
       "      <th>TAX</th>\n",
       "      <th>PTRATIO</th>\n",
       "      <th>B</th>\n",
       "      <th>LSTAT</th>\n",
       "    </tr>\n",
       "  </thead>\n",
       "  <tbody>\n",
       "    <tr>\n",
       "      <th>count</th>\n",
       "      <td>506.000000</td>\n",
       "      <td>506.000000</td>\n",
       "      <td>506.000000</td>\n",
       "      <td>506.000000</td>\n",
       "      <td>506.000000</td>\n",
       "      <td>506.000000</td>\n",
       "      <td>506.000000</td>\n",
       "      <td>506.000000</td>\n",
       "      <td>506.000000</td>\n",
       "      <td>506.000000</td>\n",
       "      <td>506.000000</td>\n",
       "      <td>506.000000</td>\n",
       "      <td>506.000000</td>\n",
       "    </tr>\n",
       "    <tr>\n",
       "      <th>mean</th>\n",
       "      <td>3.593761</td>\n",
       "      <td>11.363636</td>\n",
       "      <td>11.136779</td>\n",
       "      <td>0.069170</td>\n",
       "      <td>0.554695</td>\n",
       "      <td>6.284634</td>\n",
       "      <td>68.574901</td>\n",
       "      <td>3.795043</td>\n",
       "      <td>9.549407</td>\n",
       "      <td>408.237154</td>\n",
       "      <td>18.455534</td>\n",
       "      <td>356.674032</td>\n",
       "      <td>12.653063</td>\n",
       "    </tr>\n",
       "    <tr>\n",
       "      <th>std</th>\n",
       "      <td>8.596783</td>\n",
       "      <td>23.322453</td>\n",
       "      <td>6.860353</td>\n",
       "      <td>0.253994</td>\n",
       "      <td>0.115878</td>\n",
       "      <td>0.702617</td>\n",
       "      <td>28.148861</td>\n",
       "      <td>2.105710</td>\n",
       "      <td>8.707259</td>\n",
       "      <td>168.537116</td>\n",
       "      <td>2.164946</td>\n",
       "      <td>91.294864</td>\n",
       "      <td>7.141062</td>\n",
       "    </tr>\n",
       "    <tr>\n",
       "      <th>min</th>\n",
       "      <td>0.006320</td>\n",
       "      <td>0.000000</td>\n",
       "      <td>0.460000</td>\n",
       "      <td>0.000000</td>\n",
       "      <td>0.385000</td>\n",
       "      <td>3.561000</td>\n",
       "      <td>2.900000</td>\n",
       "      <td>1.129600</td>\n",
       "      <td>1.000000</td>\n",
       "      <td>187.000000</td>\n",
       "      <td>12.600000</td>\n",
       "      <td>0.320000</td>\n",
       "      <td>1.730000</td>\n",
       "    </tr>\n",
       "    <tr>\n",
       "      <th>25%</th>\n",
       "      <td>0.082045</td>\n",
       "      <td>0.000000</td>\n",
       "      <td>5.190000</td>\n",
       "      <td>0.000000</td>\n",
       "      <td>0.449000</td>\n",
       "      <td>5.885500</td>\n",
       "      <td>45.025000</td>\n",
       "      <td>2.100175</td>\n",
       "      <td>4.000000</td>\n",
       "      <td>279.000000</td>\n",
       "      <td>17.400000</td>\n",
       "      <td>375.377500</td>\n",
       "      <td>6.950000</td>\n",
       "    </tr>\n",
       "    <tr>\n",
       "      <th>50%</th>\n",
       "      <td>0.256510</td>\n",
       "      <td>0.000000</td>\n",
       "      <td>9.690000</td>\n",
       "      <td>0.000000</td>\n",
       "      <td>0.538000</td>\n",
       "      <td>6.208500</td>\n",
       "      <td>77.500000</td>\n",
       "      <td>3.207450</td>\n",
       "      <td>5.000000</td>\n",
       "      <td>330.000000</td>\n",
       "      <td>19.050000</td>\n",
       "      <td>391.440000</td>\n",
       "      <td>11.360000</td>\n",
       "    </tr>\n",
       "    <tr>\n",
       "      <th>75%</th>\n",
       "      <td>3.647423</td>\n",
       "      <td>12.500000</td>\n",
       "      <td>18.100000</td>\n",
       "      <td>0.000000</td>\n",
       "      <td>0.624000</td>\n",
       "      <td>6.623500</td>\n",
       "      <td>94.075000</td>\n",
       "      <td>5.188425</td>\n",
       "      <td>24.000000</td>\n",
       "      <td>666.000000</td>\n",
       "      <td>20.200000</td>\n",
       "      <td>396.225000</td>\n",
       "      <td>16.955000</td>\n",
       "    </tr>\n",
       "    <tr>\n",
       "      <th>max</th>\n",
       "      <td>88.976200</td>\n",
       "      <td>100.000000</td>\n",
       "      <td>27.740000</td>\n",
       "      <td>1.000000</td>\n",
       "      <td>0.871000</td>\n",
       "      <td>8.780000</td>\n",
       "      <td>100.000000</td>\n",
       "      <td>12.126500</td>\n",
       "      <td>24.000000</td>\n",
       "      <td>711.000000</td>\n",
       "      <td>22.000000</td>\n",
       "      <td>396.900000</td>\n",
       "      <td>37.970000</td>\n",
       "    </tr>\n",
       "  </tbody>\n",
       "</table>\n",
       "</div>"
      ],
      "text/plain": [
       "             CRIM          ZN       INDUS        CHAS         NOX          RM  \\\n",
       "count  506.000000  506.000000  506.000000  506.000000  506.000000  506.000000   \n",
       "mean     3.593761   11.363636   11.136779    0.069170    0.554695    6.284634   \n",
       "std      8.596783   23.322453    6.860353    0.253994    0.115878    0.702617   \n",
       "min      0.006320    0.000000    0.460000    0.000000    0.385000    3.561000   \n",
       "25%      0.082045    0.000000    5.190000    0.000000    0.449000    5.885500   \n",
       "50%      0.256510    0.000000    9.690000    0.000000    0.538000    6.208500   \n",
       "75%      3.647423   12.500000   18.100000    0.000000    0.624000    6.623500   \n",
       "max     88.976200  100.000000   27.740000    1.000000    0.871000    8.780000   \n",
       "\n",
       "              AGE         DIS         RAD         TAX     PTRATIO           B  \\\n",
       "count  506.000000  506.000000  506.000000  506.000000  506.000000  506.000000   \n",
       "mean    68.574901    3.795043    9.549407  408.237154   18.455534  356.674032   \n",
       "std     28.148861    2.105710    8.707259  168.537116    2.164946   91.294864   \n",
       "min      2.900000    1.129600    1.000000  187.000000   12.600000    0.320000   \n",
       "25%     45.025000    2.100175    4.000000  279.000000   17.400000  375.377500   \n",
       "50%     77.500000    3.207450    5.000000  330.000000   19.050000  391.440000   \n",
       "75%     94.075000    5.188425   24.000000  666.000000   20.200000  396.225000   \n",
       "max    100.000000   12.126500   24.000000  711.000000   22.000000  396.900000   \n",
       "\n",
       "            LSTAT  \n",
       "count  506.000000  \n",
       "mean    12.653063  \n",
       "std      7.141062  \n",
       "min      1.730000  \n",
       "25%      6.950000  \n",
       "50%     11.360000  \n",
       "75%     16.955000  \n",
       "max     37.970000  "
      ]
     },
     "execution_count": 111,
     "metadata": {},
     "output_type": "execute_result"
    }
   ],
   "source": [
    "df_x=pd.DataFrame(boston.data,columns=boston.feature_names)\n",
    "df_y=pd.DataFrame(boston.target)\n",
    "df_x.describe()"
   ]
  },
  {
   "cell_type": "code",
   "execution_count": 112,
   "metadata": {
    "collapsed": true
   },
   "outputs": [],
   "source": [
    "reg = linear_model.LinearRegression()"
   ]
  },
  {
   "cell_type": "code",
   "execution_count": 113,
   "metadata": {
    "collapsed": true
   },
   "outputs": [],
   "source": [
    "x_train, x_test, y_train, y_test = train_test_split(df_x, df_y, test_size=0.2, random_state=4)"
   ]
  },
  {
   "cell_type": "code",
   "execution_count": 114,
   "metadata": {},
   "outputs": [
    {
     "data": {
      "text/html": [
       "<div>\n",
       "<table border=\"1\" class=\"dataframe\">\n",
       "  <thead>\n",
       "    <tr style=\"text-align: right;\">\n",
       "      <th></th>\n",
       "      <th>CRIM</th>\n",
       "      <th>ZN</th>\n",
       "      <th>INDUS</th>\n",
       "      <th>CHAS</th>\n",
       "      <th>NOX</th>\n",
       "      <th>RM</th>\n",
       "      <th>AGE</th>\n",
       "      <th>DIS</th>\n",
       "      <th>RAD</th>\n",
       "      <th>TAX</th>\n",
       "      <th>PTRATIO</th>\n",
       "      <th>B</th>\n",
       "      <th>LSTAT</th>\n",
       "    </tr>\n",
       "  </thead>\n",
       "  <tbody>\n",
       "    <tr>\n",
       "      <th>192</th>\n",
       "      <td>0.08664</td>\n",
       "      <td>45.0</td>\n",
       "      <td>3.44</td>\n",
       "      <td>0.0</td>\n",
       "      <td>0.437</td>\n",
       "      <td>7.178</td>\n",
       "      <td>26.3</td>\n",
       "      <td>6.4798</td>\n",
       "      <td>5.0</td>\n",
       "      <td>398.0</td>\n",
       "      <td>15.2</td>\n",
       "      <td>390.49</td>\n",
       "      <td>2.87</td>\n",
       "    </tr>\n",
       "    <tr>\n",
       "      <th>138</th>\n",
       "      <td>0.24980</td>\n",
       "      <td>0.0</td>\n",
       "      <td>21.89</td>\n",
       "      <td>0.0</td>\n",
       "      <td>0.624</td>\n",
       "      <td>5.857</td>\n",
       "      <td>98.2</td>\n",
       "      <td>1.6686</td>\n",
       "      <td>4.0</td>\n",
       "      <td>437.0</td>\n",
       "      <td>21.2</td>\n",
       "      <td>392.04</td>\n",
       "      <td>21.32</td>\n",
       "    </tr>\n",
       "    <tr>\n",
       "      <th>251</th>\n",
       "      <td>0.21409</td>\n",
       "      <td>22.0</td>\n",
       "      <td>5.86</td>\n",
       "      <td>0.0</td>\n",
       "      <td>0.431</td>\n",
       "      <td>6.438</td>\n",
       "      <td>8.9</td>\n",
       "      <td>7.3967</td>\n",
       "      <td>7.0</td>\n",
       "      <td>330.0</td>\n",
       "      <td>19.1</td>\n",
       "      <td>377.07</td>\n",
       "      <td>3.59</td>\n",
       "    </tr>\n",
       "    <tr>\n",
       "      <th>13</th>\n",
       "      <td>0.62976</td>\n",
       "      <td>0.0</td>\n",
       "      <td>8.14</td>\n",
       "      <td>0.0</td>\n",
       "      <td>0.538</td>\n",
       "      <td>5.949</td>\n",
       "      <td>61.8</td>\n",
       "      <td>4.7075</td>\n",
       "      <td>4.0</td>\n",
       "      <td>307.0</td>\n",
       "      <td>21.0</td>\n",
       "      <td>396.90</td>\n",
       "      <td>8.26</td>\n",
       "    </tr>\n",
       "    <tr>\n",
       "      <th>256</th>\n",
       "      <td>0.01538</td>\n",
       "      <td>90.0</td>\n",
       "      <td>3.75</td>\n",
       "      <td>0.0</td>\n",
       "      <td>0.394</td>\n",
       "      <td>7.454</td>\n",
       "      <td>34.2</td>\n",
       "      <td>6.3361</td>\n",
       "      <td>3.0</td>\n",
       "      <td>244.0</td>\n",
       "      <td>15.9</td>\n",
       "      <td>386.34</td>\n",
       "      <td>3.11</td>\n",
       "    </tr>\n",
       "  </tbody>\n",
       "</table>\n",
       "</div>"
      ],
      "text/plain": [
       "        CRIM    ZN  INDUS  CHAS    NOX     RM   AGE     DIS  RAD    TAX  \\\n",
       "192  0.08664  45.0   3.44   0.0  0.437  7.178  26.3  6.4798  5.0  398.0   \n",
       "138  0.24980   0.0  21.89   0.0  0.624  5.857  98.2  1.6686  4.0  437.0   \n",
       "251  0.21409  22.0   5.86   0.0  0.431  6.438   8.9  7.3967  7.0  330.0   \n",
       "13   0.62976   0.0   8.14   0.0  0.538  5.949  61.8  4.7075  4.0  307.0   \n",
       "256  0.01538  90.0   3.75   0.0  0.394  7.454  34.2  6.3361  3.0  244.0   \n",
       "\n",
       "     PTRATIO       B  LSTAT  \n",
       "192     15.2  390.49   2.87  \n",
       "138     21.2  392.04  21.32  \n",
       "251     19.1  377.07   3.59  \n",
       "13      21.0  396.90   8.26  \n",
       "256     15.9  386.34   3.11  "
      ]
     },
     "execution_count": 114,
     "metadata": {},
     "output_type": "execute_result"
    }
   ],
   "source": [
    "x_train.head()"
   ]
  },
  {
   "cell_type": "code",
   "execution_count": 115,
   "metadata": {},
   "outputs": [
    {
     "data": {
      "text/plain": [
       "LinearRegression(copy_X=True, fit_intercept=True, n_jobs=1, normalize=False)"
      ]
     },
     "execution_count": 115,
     "metadata": {},
     "output_type": "execute_result"
    }
   ],
   "source": [
    "reg.fit(x_train,y_train)"
   ]
  },
  {
   "cell_type": "code",
   "execution_count": 116,
   "metadata": {},
   "outputs": [
    {
     "data": {
      "text/plain": [
       "array([[ -1.14743504e-01,   4.70875035e-02,   8.70282354e-03,\n",
       "          3.23818824e+00,  -1.67240567e+01,   3.87662996e+00,\n",
       "         -1.08218769e-02,  -1.54144627e+00,   2.92604151e-01,\n",
       "         -1.33989537e-02,  -9.07306805e-01,   8.91271054e-03,\n",
       "         -4.58747039e-01]])"
      ]
     },
     "execution_count": 116,
     "metadata": {},
     "output_type": "execute_result"
    }
   ],
   "source": [
    "reg.coef_"
   ]
  },
  {
   "cell_type": "code",
   "execution_count": 117,
   "metadata": {},
   "outputs": [
    {
     "data": {
      "text/plain": [
       "array([[ 12.06508881],\n",
       "       [ 26.98544801],\n",
       "       [ 17.59242607],\n",
       "       [ 18.15842166],\n",
       "       [ 36.91656975],\n",
       "       [ 25.43573299],\n",
       "       [ 31.08610267],\n",
       "       [ 19.7198111 ],\n",
       "       [ 19.63707329],\n",
       "       [ 22.95805783],\n",
       "       [ 28.38566642],\n",
       "       [ 28.49200286],\n",
       "       [ 19.00260488],\n",
       "       [ 32.42578552],\n",
       "       [ 21.52409329],\n",
       "       [ 15.20850151],\n",
       "       [ 21.23763462],\n",
       "       [ 11.60093062],\n",
       "       [ 11.38018796],\n",
       "       [ 13.62527521],\n",
       "       [  5.65831897],\n",
       "       [ 17.34095216],\n",
       "       [ 20.81305124],\n",
       "       [ 22.51181212],\n",
       "       [ 16.39301984],\n",
       "       [ 20.32279223],\n",
       "       [ 17.89495414],\n",
       "       [ 14.23685883],\n",
       "       [ 21.08606151],\n",
       "       [ 17.50432715],\n",
       "       [ 14.50006271],\n",
       "       [ 23.63998403],\n",
       "       [ 34.31768468],\n",
       "       [ 22.23613308],\n",
       "       [ 16.82042372],\n",
       "       [ 20.15196012],\n",
       "       [ 30.67786122],\n",
       "       [ 35.60991076],\n",
       "       [ 23.50419347],\n",
       "       [ 24.67227487],\n",
       "       [ 36.91121083],\n",
       "       [ 32.34217047],\n",
       "       [ 19.10793629],\n",
       "       [ 32.1983094 ],\n",
       "       [ 33.42967099],\n",
       "       [ 25.53182714],\n",
       "       [ 40.63022496],\n",
       "       [ 18.21661123],\n",
       "       [ 19.33922512],\n",
       "       [ 23.80347638],\n",
       "       [ 33.42145032],\n",
       "       [ 26.14932391],\n",
       "       [ 18.09348831],\n",
       "       [ 28.20740859],\n",
       "       [ 13.36375701],\n",
       "       [ 23.34559702],\n",
       "       [ 24.44787362],\n",
       "       [ 33.55417247],\n",
       "       [ 16.70358813],\n",
       "       [ 36.57198614],\n",
       "       [ 15.69970374],\n",
       "       [ 18.53837398],\n",
       "       [ 32.14966264],\n",
       "       [ 15.50497853],\n",
       "       [ 39.02306656],\n",
       "       [ 27.3802001 ],\n",
       "       [ 31.96945412],\n",
       "       [ 10.04948066],\n",
       "       [ 19.12888926],\n",
       "       [ 21.72507855],\n",
       "       [ 23.14985491],\n",
       "       [ 22.82968181],\n",
       "       [ 22.50573116],\n",
       "       [ 28.2154115 ],\n",
       "       [ 17.12753638],\n",
       "       [ 23.0769054 ],\n",
       "       [ 16.65810264],\n",
       "       [ 25.18167994],\n",
       "       [ 13.68123205],\n",
       "       [ 19.78570713],\n",
       "       [ 22.31929876],\n",
       "       [ 20.23599944],\n",
       "       [ 28.36140561],\n",
       "       [ 19.12682135],\n",
       "       [ 30.49416458],\n",
       "       [ 22.2628809 ],\n",
       "       [ 29.98336484],\n",
       "       [ 19.27691266],\n",
       "       [ 23.74333026],\n",
       "       [ 38.32047363],\n",
       "       [ 31.24834261],\n",
       "       [ 41.91630239],\n",
       "       [ 18.61520467],\n",
       "       [ 37.46825552],\n",
       "       [ 19.65956084],\n",
       "       [ 23.45085031],\n",
       "       [ 26.55883415],\n",
       "       [ 22.39913073],\n",
       "       [  9.58873937],\n",
       "       [ 20.39482401],\n",
       "       [  9.18010124],\n",
       "       [ 27.36961983]])"
      ]
     },
     "execution_count": 117,
     "metadata": {},
     "output_type": "execute_result"
    }
   ],
   "source": [
    "reg.predict(x_test)"
   ]
  },
  {
   "cell_type": "code",
   "execution_count": 118,
   "metadata": {},
   "outputs": [
    {
     "data": {
      "text/plain": [
       "0.72647013796830096"
      ]
     },
     "execution_count": 118,
     "metadata": {},
     "output_type": "execute_result"
    }
   ],
   "source": [
    "reg.score(x_test, y_test)"
   ]
  },
  {
   "cell_type": "code",
   "execution_count": 124,
   "metadata": {},
   "outputs": [
    {
     "ename": "TypeError",
     "evalue": "tuple indices must be integers or slices, not tuple",
     "output_type": "error",
     "traceback": [
      "\u001b[1;31m---------------------------------------------------------------------------\u001b[0m",
      "\u001b[1;31mTypeError\u001b[0m                                 Traceback (most recent call last)",
      "\u001b[1;32m<ipython-input-124-5c2eb0e6e66b>\u001b[0m in \u001b[0;36m<module>\u001b[1;34m()\u001b[0m\n\u001b[1;32m----> 1\u001b[1;33m \u001b[0mprint\u001b[0m\u001b[1;33m(\u001b[0m\u001b[0mx_test\u001b[0m\u001b[1;33m.\u001b[0m\u001b[0mshape\u001b[0m\u001b[1;33m[\u001b[0m\u001b[1;33m:\u001b[0m\u001b[1;33m,\u001b[0m\u001b[1;36m0\u001b[0m\u001b[1;33m]\u001b[0m\u001b[1;33m,\u001b[0m \u001b[0my_test\u001b[0m\u001b[1;33m.\u001b[0m\u001b[0mshape\u001b[0m\u001b[1;33m)\u001b[0m\u001b[1;33m\u001b[0m\u001b[0m\n\u001b[0m\u001b[0;32m      2\u001b[0m \u001b[0mplt\u001b[0m\u001b[1;33m.\u001b[0m\u001b[0mscatter\u001b[0m\u001b[1;33m(\u001b[0m\u001b[0mx_test\u001b[0m\u001b[1;33m[\u001b[0m\u001b[1;33m:\u001b[0m\u001b[1;33m,\u001b[0m\u001b[1;36m0\u001b[0m\u001b[1;33m]\u001b[0m\u001b[1;33m,\u001b[0m \u001b[0my_test\u001b[0m\u001b[1;33m)\u001b[0m\u001b[1;33m\u001b[0m\u001b[0m\n\u001b[0;32m      3\u001b[0m \u001b[0mplt\u001b[0m\u001b[1;33m.\u001b[0m\u001b[0mshow\u001b[0m\u001b[1;33m(\u001b[0m\u001b[1;33m)\u001b[0m\u001b[1;33m\u001b[0m\u001b[0m\n",
      "\u001b[1;31mTypeError\u001b[0m: tuple indices must be integers or slices, not tuple"
     ]
    }
   ],
   "source": [
    "print(x_test.shape[:,0], y_test.shape)\n",
    "plt.scatter(x_test[:,0], y_test)\n",
    "plt.show()"
   ]
  },
  {
   "cell_type": "code",
   "execution_count": null,
   "metadata": {
    "collapsed": true
   },
   "outputs": [],
   "source": []
  }
 ],
 "metadata": {
  "kernelspec": {
   "display_name": "Python 3",
   "language": "python",
   "name": "python3"
  },
  "language_info": {
   "codemirror_mode": {
    "name": "ipython",
    "version": 3
   },
   "file_extension": ".py",
   "mimetype": "text/x-python",
   "name": "python",
   "nbconvert_exporter": "python",
   "pygments_lexer": "ipython3",
   "version": "3.5.3"
  }
 },
 "nbformat": 4,
 "nbformat_minor": 2
}
